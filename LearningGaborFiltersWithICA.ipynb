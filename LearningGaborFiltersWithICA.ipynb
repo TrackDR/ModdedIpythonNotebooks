{
 "cells": [
  {
   "cell_type": "code",
   "execution_count": 1,
   "metadata": {
    "collapsed": true
   },
   "outputs": [],
   "source": [
    "# From http://peekaboo-vision.blogspot.com/2012/04/learning-gabor-filters-with-ica-and.html"
   ]
  },
  {
   "cell_type": "code",
   "execution_count": 2,
   "metadata": {
    "collapsed": true
   },
   "outputs": [],
   "source": [
    "# and from https://gist.github.com/amueller/2420407"
   ]
  },
  {
   "cell_type": "code",
   "execution_count": 3,
   "metadata": {
    "collapsed": true
   },
   "outputs": [],
   "source": [
    "import numpy as np\n",
    "import matplotlib.pyplot as plt\n",
    "\n",
    "from sklearn.datasets import fetch_mldata\n",
    "from sklearn.decomposition import FastICA, PCA\n",
    "from sklearn.cluster import KMeans\n",
    "\n",
    "%matplotlib inline"
   ]
  },
  {
   "cell_type": "code",
   "execution_count": 4,
   "metadata": {
    "collapsed": true
   },
   "outputs": [],
   "source": [
    "nc = 10"
   ]
  },
  {
   "cell_type": "code",
   "execution_count": 5,
   "metadata": {
    "collapsed": true
   },
   "outputs": [],
   "source": [
    "# fetch natural image patches\n",
    "image_patches = fetch_mldata(\"natural scenes data\")\n",
    "X = image_patches.data"
   ]
  },
  {
   "cell_type": "code",
   "execution_count": 6,
   "metadata": {
    "collapsed": true
   },
   "outputs": [],
   "source": [
    "# 1000 patches a 32x32\n",
    "# not so much data, reshape to 16000 patches a 8x8\n",
    "X = X.reshape(1000, 4, 8, 4, 8)\n",
    "X = np.rollaxis(X, 3, 2).reshape(-1, 8 * 8)"
   ]
  },
  {
   "cell_type": "code",
   "execution_count": 7,
   "metadata": {
    "collapsed": false
   },
   "outputs": [
    {
     "data": {
      "text/plain": [
       "FastICA(algorithm='parallel', fun='logcosh', fun_args=None, max_iter=200,\n",
       "    n_components=10, random_state=None, tol=0.0001, w_init=None,\n",
       "    whiten=True)"
      ]
     },
     "execution_count": 7,
     "metadata": {},
     "output_type": "execute_result"
    }
   ],
   "source": [
    "# perform ICA\n",
    "ica = FastICA(n_components=nc)\n",
    "ica.fit(X)\n",
    "#filters_ica = ica.unmixing_matrix_"
   ]
  },
  {
   "cell_type": "code",
   "execution_count": 8,
   "metadata": {
    "collapsed": true
   },
   "outputs": [],
   "source": [
    "filters_ica = ica.components_"
   ]
  },
  {
   "cell_type": "code",
   "execution_count": 9,
   "metadata": {
    "collapsed": true
   },
   "outputs": [],
   "source": [
    "# zero mean \"by hand\" so that inverse transform\n",
    "# doesn't mess up the filters\n",
    "X -= X.mean(axis=0)"
   ]
  },
  {
   "cell_type": "code",
   "execution_count": 10,
   "metadata": {
    "collapsed": true
   },
   "outputs": [],
   "source": [
    "# perform whitening\n",
    "pca = PCA(n_components=nc, whiten=True)\n",
    "X_white = pca.fit_transform(X)\n",
    "kmeans = KMeans(n_clusters=nc, n_init=1).fit(X_white)"
   ]
  },
  {
   "cell_type": "code",
   "execution_count": 11,
   "metadata": {
    "collapsed": true
   },
   "outputs": [],
   "source": [
    "filters_kmeans = pca.inverse_transform(kmeans.cluster_centers_)\n",
    "filters_pca = pca.components_"
   ]
  },
  {
   "cell_type": "code",
   "execution_count": 12,
   "metadata": {
    "collapsed": true
   },
   "outputs": [],
   "source": [
    "titles = [\"ICA\", \"PCA\", \"k-means\"]\n",
    "filters = [filters_ica, filters_pca, filters_kmeans]"
   ]
  },
  {
   "cell_type": "code",
   "execution_count": 15,
   "metadata": {
    "collapsed": false
   },
   "outputs": [
    {
     "name": "stdout",
     "output_type": "stream",
     "text": [
      "ICA\n"
     ]
    },
    {
     "data": {
      "image/png": "[encoded data removed]",
      "text/plain": [
       "<matplotlib.figure.Figure at 0x7fdc3e99fa90>"
      ]
     },
     "metadata": {},
     "output_type": "display_data"
    },
    {
     "name": "stdout",
     "output_type": "stream",
     "text": [
      "PCA\n"
     ]
    },
    {
     "data": {
      "image/png": "[encoded data removed]",
      "text/plain": [
       "<matplotlib.figure.Figure at 0x7fdbedae7650>"
      ]
     },
     "metadata": {},
     "output_type": "display_data"
    },
    {
     "name": "stdout",
     "output_type": "stream",
     "text": [
      "k-means\n"
     ]
    },
    {
     "data": {
      "image/png": "[encoded data removed]",
      "text/plain": [
       "<matplotlib.figure.Figure at 0x7fdbedb9cb90>"
      ]
     },
     "metadata": {},
     "output_type": "display_data"
    }
   ],
   "source": [
    "for T, F in zip(titles, filters):\n",
    "    print(T)\n",
    "    plt.figure(T)\n",
    "    for i, f in enumerate(F):\n",
    "        plt.subplot(1, nc, i + 1)\n",
    "        plt.imshow(f.reshape(8, 8), cmap=\"gray\")\n",
    "        plt.axis(\"off\")\n",
    "    plt.show()"
   ]
  },
  {
   "cell_type": "code",
   "execution_count": 16,
   "metadata": {
    "collapsed": true
   },
   "outputs": [],
   "source": [
    "def norm2(myvec):\n",
    "    return np.sum(np.square(myvec))"
   ]
  },
  {
   "cell_type": "code",
   "execution_count": 19,
   "metadata": {
    "collapsed": false
   },
   "outputs": [
    {
     "name": "stdout",
     "output_type": "stream",
     "text": [
      "ICA\n",
      "    0.000071274\n",
      "    0.000069831\n",
      "    0.000097176\n",
      "    0.000028956\n",
      "    0.000071492\n",
      "    0.000072609\n",
      "    0.000047441\n",
      "    0.000075108\n",
      "    0.000032498\n",
      "    0.000006910\n",
      "PCA\n",
      "    1.000000000\n",
      "    1.000000000\n",
      "    1.000000000\n",
      "    1.000000000\n",
      "    1.000000000\n",
      "    1.000000000\n",
      "    1.000000000\n",
      "    1.000000000\n",
      "    1.000000000\n",
      "    1.000000000\n",
      "k-means\n",
      "    6.367415833\n",
      "   11.767927560\n",
      "    1.453424562\n",
      "    7.495742641\n",
      "    7.067620158\n",
      "    7.533509071\n",
      "   10.785670651\n",
      "   19.972086350\n",
      "    6.338503637\n",
      "    7.718618777\n"
     ]
    }
   ],
   "source": [
    "for T, F in zip(titles, filters):\n",
    "    print(T)\n",
    "    for i, f in enumerate(F):\n",
    "        n2 = norm2(f)\n",
    "        print('%15.9f' % n2)"
   ]
  },
  {
   "cell_type": "code",
   "execution_count": null,
   "metadata": {
    "collapsed": true
   },
   "outputs": [],
   "source": []
  }
 ],
 "metadata": {
  "kernelspec": {
   "display_name": "Python 2",
   "language": "python",
   "name": "python2"
  },
  "language_info": {
   "codemirror_mode": {
    "name": "ipython",
    "version": 2
   },
   "file_extension": ".py",
   "mimetype": "text/x-python",
   "name": "python",
   "nbconvert_exporter": "python",
   "pygments_lexer": "ipython2",
   "version": "2.7.11"
  }
 },
 "nbformat": 4,
 "nbformat_minor": 0
}
