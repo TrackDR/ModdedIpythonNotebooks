{
 "cells": [
  {
   "cell_type": "markdown",
   "metadata": {},
   "source": [
    "## Learning Gabor Filters with ICA"
   ]
  },
  {
   "cell_type": "code",
   "execution_count": null,
   "metadata": {
    "collapsed": true
   },
   "outputs": [],
   "source": [
    "# From http://peekaboo-vision.blogspot.com/2012/04/learning-gabor-filters-with-ica-and.html"
   ]
  },
  {
   "cell_type": "code",
   "execution_count": null,
   "metadata": {
    "collapsed": true
   },
   "outputs": [],
   "source": [
    "# and from https://gist.github.com/amueller/2420407"
   ]
  },
  {
   "cell_type": "code",
   "execution_count": null,
   "metadata": {
    "collapsed": true
   },
   "outputs": [],
   "source": [
    "import numpy as np\n",
    "import matplotlib.pyplot as plt\n",
    "\n",
    "from sklearn.datasets import fetch_mldata\n",
    "from sklearn.decomposition import FastICA, PCA\n",
    "from sklearn.cluster import KMeans\n",
    "\n",
    "%matplotlib inline"
   ]
  },
  {
   "cell_type": "code",
   "execution_count": null,
   "metadata": {
    "collapsed": true
   },
   "outputs": [],
   "source": [
    "# fetch natural image patches\n",
    "image_patches = fetch_mldata(\"natural scenes data\")\n",
    "X = image_patches.data"
   ]
  },
  {
   "cell_type": "code",
   "execution_count": null,
   "metadata": {
    "collapsed": true
   },
   "outputs": [],
   "source": [
    "# 1000 patches a 32x32\n",
    "# not so much data, reshape to 16000 patches a 8x8\n",
    "X = X.reshape(1000, 4, 8, 4, 8)\n",
    "X = np.rollaxis(X, 3, 2).reshape(-1, 8 * 8)"
   ]
  },
  {
   "cell_type": "code",
   "execution_count": null,
   "metadata": {
    "collapsed": true
   },
   "outputs": [],
   "source": [
    "# perform ICA\n",
    "ica = FastICA(n_components=49)\n",
    "ica.fit(X)\n",
    "filters_ica = ica.unmixing_matrix_"
   ]
  },
  {
   "cell_type": "code",
   "execution_count": null,
   "metadata": {
    "collapsed": true
   },
   "outputs": [],
   "source": [
    "# zero mean \"by hand\" so that inverse transform\n",
    "# doesn't mess up the filters\n",
    "X -= X.mean(axis=0)\n",
    "# perform whitening\n",
    "pca = PCA(n_components=49, whiten=True)\n",
    "X_white = pca.fit_transform(X)\n",
    "kmeans = KMeans(k=49, n_init=1).fit(X_white)"
   ]
  },
  {
   "cell_type": "code",
   "execution_count": null,
   "metadata": {
    "collapsed": true
   },
   "outputs": [],
   "source": [
    "filters_kmeans = pca.inverse_transform(kmeans.cluster_centers_)\n",
    "filters_pca = pca.components_"
   ]
  },
  {
   "cell_type": "code",
   "execution_count": null,
   "metadata": {
    "collapsed": true
   },
   "outputs": [],
   "source": [
    "titles = [\"ICA\", \"PCA\", \"k-means\"]\n",
    "filters = [filters_ica, filters_pca, filters_kmeans]"
   ]
  },
  {
   "cell_type": "code",
   "execution_count": null,
   "metadata": {
    "collapsed": true
   },
   "outputs": [],
   "source": [
    "for T, F in zip(titles, filters):\n",
    "    plt.figure(T)\n",
    "    for i, f in enumerate(F):\n",
    "        plt.subplot(7, 7, i + 1)\n",
    "        plt.imshow(f.reshape(8, 8), cmap=\"gray\")\n",
    "        plt.axis(\"off\")\n",
    "plt.show()"
   ]
  }
 ],
 "metadata": {
  "kernelspec": {
   "display_name": "Python 2",
   "language": "python",
   "name": "python2"
  },
  "language_info": {
   "codemirror_mode": {
    "name": "ipython",
    "version": 2
   },
   "file_extension": ".py",
   "mimetype": "text/x-python",
   "name": "python",
   "nbconvert_exporter": "python",
   "pygments_lexer": "ipython2",
   "version": "2.7.11"
  }
 },
 "nbformat": 4,
 "nbformat_minor": 0
}
